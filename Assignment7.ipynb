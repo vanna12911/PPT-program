{
 "cells": [
  {
   "cell_type": "code",
   "execution_count": 1,
   "id": "4fd20cbe-d6f1-4048-8bd3-a4f82b0d60c1",
   "metadata": {},
   "outputs": [
    {
     "data": {
      "text/plain": [
       "True"
      ]
     },
     "execution_count": 1,
     "metadata": {},
     "output_type": "execute_result"
    }
   ],
   "source": [
    "\"\"\"\n",
    "\n",
    "💡 **Question 1**\n",
    "\n",
    "Given two strings s and t, *determine if they are isomorphic*.\n",
    "\n",
    "Two strings s and t are isomorphic if the characters in s can be replaced to get t.\n",
    "\n",
    "All occurrences of a character must be replaced with another character while preserving the order of characters. No two characters may map to the same character, but a character may map to itself.\n",
    "\n",
    "**Example 1:**\n",
    "\n",
    "**Input:** s = \"egg\", t = \"add\"\n",
    "\n",
    "**Output:** true\n",
    "\n",
    "\"\"\"\n",
    "\n",
    "def is_isomorphic(s, t):\n",
    "  if len(s) != len(t):\n",
    "    return False\n",
    "\n",
    "  mapping = {}\n",
    "  seen = set()\n",
    "  for i, char in enumerate(s):\n",
    "    if char not in mapping:\n",
    "      if char in seen:\n",
    "        return False\n",
    "      mapping[char] = t[i]\n",
    "      seen.add(t[i])\n",
    "    else:\n",
    "      if mapping[char] != t[i]:\n",
    "        return False\n",
    "\n",
    "  return True\n",
    "is_isomorphic(\"egg\", \"add\")\n",
    "\n"
   ]
  },
  {
   "cell_type": "code",
   "execution_count": 2,
   "id": "584e29ce-ed1f-46d5-bcec-f07ba63b60d6",
   "metadata": {},
   "outputs": [
    {
     "data": {
      "text/plain": [
       "True"
      ]
     },
     "execution_count": 2,
     "metadata": {},
     "output_type": "execute_result"
    }
   ],
   "source": [
    "\"\"\"\n",
    "💡 **Question 2**\n",
    "\n",
    "Given a string num which represents an integer, return true *if* num *is a **strobogrammatic number***.\n",
    "\n",
    "A **strobogrammatic number** is a number that looks the same when rotated 180 degrees (looked at upside down).\n",
    "\n",
    "**Example 1:**\n",
    "\n",
    "**Input:** num = \"69\"\n",
    "\n",
    "**Output:**\n",
    "\n",
    "true\n",
    "\n",
    "\"\"\"\n",
    "def is_strobogrammatic(num):\n",
    "  \n",
    "  strobogrammatic_pairs = {\"0\": \"0\", \"1\": \"1\", \"6\": \"9\", \"8\": \"8\", \"9\": \"6\"}\n",
    "  if len(num) == 0:\n",
    "    return True\n",
    "\n",
    "  for i in range(len(num) // 2):\n",
    "    if num[i] not in strobogrammatic_pairs or strobogrammatic_pairs[num[i]] != num[-i - 1]:\n",
    "      return False\n",
    "\n",
    "  return True\n",
    "is_strobogrammatic(\"69\")\n",
    "\n"
   ]
  },
  {
   "cell_type": "code",
   "execution_count": 4,
   "id": "20d998b8-6f81-445d-b90e-11366374713e",
   "metadata": {},
   "outputs": [
    {
     "data": {
      "text/plain": [
       "'134'"
      ]
     },
     "execution_count": 4,
     "metadata": {},
     "output_type": "execute_result"
    }
   ],
   "source": [
    "\"\"\"\n",
    "\n",
    "💡 **Question 3**\n",
    "\n",
    "Given two non-negative integers, num1 and num2 represented as string, return *the sum of* num1 *and* num2 *as a string*.\n",
    "\n",
    "You must solve the problem without using any built-in library for handling large integers (such as BigInteger). You must also not convert the inputs to integers directly.\n",
    "\n",
    "**Example 1:**\n",
    "\n",
    "**Input:** num1 = \"11\", num2 = \"123\"\n",
    "\n",
    "**Output:**\n",
    "\n",
    "\"134\"\n",
    "\n",
    "\n",
    "\"\"\"\n",
    "def add_strings(num1, num2):\n",
    "  \n",
    "  carry = 0\n",
    "  result = \"\"\n",
    "  i, j = len(num1) - 1, len(num2) - 1\n",
    "  while i >= 0 or j >= 0:\n",
    "    digit1 = int(num1[i]) if i >= 0 else 0\n",
    "    digit2 = int(num2[j]) if j >= 0 else 0\n",
    "    sum = digit1 + digit2 + carry\n",
    "    result = str(sum % 10) + result\n",
    "    carry = sum // 10\n",
    "    i -= 1\n",
    "    j -= 1\n",
    "\n",
    "  if carry:\n",
    "    result = str(carry) + result\n",
    "\n",
    "  return result\n",
    "add_strings(\"11\", \"123\")\n",
    "\n"
   ]
  },
  {
   "cell_type": "code",
   "execution_count": 5,
   "id": "a40cac6c-c9f7-4844-8ae4-1c1c31dd4830",
   "metadata": {},
   "outputs": [
    {
     "data": {
      "text/plain": [
       "\"s'teL ekat edoCteeL tsetnoc\""
      ]
     },
     "execution_count": 5,
     "metadata": {},
     "output_type": "execute_result"
    }
   ],
   "source": [
    "\"\"\"\n",
    "\n",
    "💡 **Question 4**\n",
    "\n",
    "Given a string s, reverse the order of characters in each word within a sentence while still preserving whitespace and initial word order.\n",
    "\n",
    "**Example 1:**\n",
    "\n",
    "**Input:** s = \"Let's take LeetCode contest\"\n",
    "\n",
    "**Output:** \"s'teL ekat edoCteeL tsetnoc\"\n",
    "\n",
    "\"\"\"\n",
    "def reverse_words(s):\n",
    "  \"\"\"\n",
    "  :type s: str\n",
    "  :rtype: str\n",
    "  \"\"\"\n",
    "  words = s.split()\n",
    "  reversed_words = []\n",
    "  for word in words:\n",
    "    reversed_word = \"\"\n",
    "    for i in range(len(word) - 1, -1, -1):\n",
    "      reversed_word += word[i]\n",
    "    reversed_words.append(reversed_word)\n",
    "\n",
    "  return \" \".join(reversed_words)\n",
    "reverse_words(\"Let's take LeetCode contest\")"
   ]
  },
  {
   "cell_type": "code",
   "execution_count": 7,
   "id": "45791370-7e85-4520-bea1-1cf101b90a6a",
   "metadata": {},
   "outputs": [
    {
     "name": "stdout",
     "output_type": "stream",
     "text": [
      "badcfeg\n"
     ]
    }
   ],
   "source": [
    "\"\"\"\n",
    "💡 **Question 5**\n",
    "Given a string s and an integer k, reverse the first k characters for every 2k characters counting from the start of the string.\n",
    "If there are fewer than k characters left, reverse all of them. If there are less than 2k but greater than or equal to k characters, then reverse the first k characters and leave the other as original.\n",
    "\n",
    "**Example 1:**\n",
    "**Input:** s = \"abcdefg\", k = 2\n",
    "**Output:**\n",
    "\"bacdfeg\"\n",
    "\n",
    "\"\"\"\n",
    "def reverse_every_k_characters(s, k):\n",
    "  \"\"\"\n",
    "  :type s: str\n",
    "  :type k: int\n",
    "  :rtype: str\n",
    "  \"\"\"\n",
    "  result = \"\"\n",
    "  i = 0\n",
    "  while i < len(s):\n",
    "    if i + k <= len(s):\n",
    "      reversed_part = s[i:i + k][::-1]\n",
    "      result += reversed_part\n",
    "      i += k\n",
    "    else:\n",
    "      reversed_part = s[i:len(s)]\n",
    "      result += reversed_part[::-1]\n",
    "      i = len(s)\n",
    "\n",
    "  return result\n",
    "\n",
    "\n",
    "if __name__ == \"__main__\":\n",
    "  print(reverse_every_k_characters(\"abcdefg\", 2))\n",
    "\n"
   ]
  },
  {
   "cell_type": "code",
   "execution_count": 9,
   "id": "6f099844-52f8-4eab-b7d2-5ca9db0a00bb",
   "metadata": {},
   "outputs": [
    {
     "name": "stdout",
     "output_type": "stream",
     "text": [
      "True\n"
     ]
    }
   ],
   "source": [
    "\"\"\"\n",
    "💡 **Question 6**\n",
    "\n",
    "Given two strings s and goal, return true *if and only if* s *can become* goal *after some number of **shifts** on* s.\n",
    "\n",
    "A **shift** on s consists of moving the leftmost character of s to the rightmost position.\n",
    "\n",
    "- For example, if s = \"abcde\", then it will be \"bcdea\" after one shift.\n",
    "\n",
    "**Example 1:**\n",
    "\n",
    "**Input:** s = \"abcde\", goal = \"cdeab\"\n",
    "\n",
    "**Output:**\n",
    "\n",
    "true\n",
    "\n",
    "\"\"\"\n",
    "def can_be_reached(s, goal):\n",
    "  \"\"\"\n",
    "  :type s: str\n",
    "  :type goal: str\n",
    "  :rtype: bool\n",
    "  \"\"\"\n",
    "  if len(s) != len(goal):\n",
    "    return False\n",
    "\n",
    "  seen = set()\n",
    "  queue = [s]\n",
    "  while queue:\n",
    "    current_string = queue.pop(0)\n",
    "    if current_string == goal:\n",
    "      return True\n",
    "\n",
    "    for i in range(len(current_string)):\n",
    "      new_string = current_string[1:] + current_string[0]\n",
    "      if new_string not in seen:\n",
    "        seen.add(new_string)\n",
    "        queue.append(new_string)\n",
    "\n",
    "  return False\n",
    "\n",
    "\n",
    "if __name__ == \"__main__\":\n",
    "  print(can_be_reached(\"abcde\", \"cdeab\"))\n"
   ]
  },
  {
   "cell_type": "code",
   "execution_count": 10,
   "id": "6408e7ba-7037-48fc-8941-c8cd1e5c5c49",
   "metadata": {},
   "outputs": [
    {
     "name": "stdout",
     "output_type": "stream",
     "text": [
      "False\n"
     ]
    }
   ],
   "source": [
    "\"\"\"\n",
    "<aside>\n",
    "💡 **Question 7**\n",
    "\n",
    "Given two strings s and t, return true *if they are equal when both are typed into empty text editors*. '#' means a backspace character.\n",
    "\n",
    "Note that after backspacing an empty text, the text will continue empty.\n",
    "\n",
    "**Example 1:**\n",
    "\n",
    "**Input:** s = \"ab#c\", t = \"ad#c\"\n",
    "\n",
    "**Output:** true\n",
    "\n",
    "**Explanation:**\n",
    "\n",
    "Both s and t become \"ac\".\n",
    "\n",
    "</aside>\n",
    "\"\"\"\n",
    "def backspace_compare(s, t):\n",
    "  \"\"\"\n",
    "  :type s: str\n",
    "  :type t: str\n",
    "  :rtype: bool\n",
    "  \"\"\"\n",
    "  i, j = 0, 0\n",
    "  count_s, count_t = 0, 0\n",
    "  while i < len(s) or j < len(t):\n",
    "    while i < len(s) and s[i] == '#':\n",
    "      count_s += 1\n",
    "      i += 1\n",
    "\n",
    "    while j < len(t) and t[j] == '#':\n",
    "      count_t += 1\n",
    "      j += 1\n",
    "\n",
    "    if i == len(s) or j == len(t):\n",
    "      break\n",
    "\n",
    "    if s[i] != t[j]:\n",
    "      return False\n",
    "\n",
    "    i += 1\n",
    "    j += 1\n",
    "\n",
    "  return count_s == count_t\n",
    "if __name__ == \"__main__\":\n",
    "  print(backspace_compare(\"ab#c\", \"ad#c\"))\n",
    "\n"
   ]
  },
  {
   "cell_type": "code",
   "execution_count": null,
   "id": "78f1e8cc-c017-401d-91cc-87ba24aa2b70",
   "metadata": {},
   "outputs": [],
   "source": [
    "\"\"\"\n",
    "<aside>\n",
    "💡 **Question 8**\n",
    "\n",
    "You are given an array coordinates, coordinates[i] = [x, y], where [x, y] represents the coordinate of a point. Check if these points make a straight line in the XY plane.\n",
    "\n",
    "**Example 1:**\n",
    "\n",
    "**Input:** coordinates = [[1,2],[2,3],[3,4],[4,5],[5,6],[6,7]]\n",
    "\n",
    "**Output:** true\n",
    "\n",
    "\"\"\"\n"
   ]
  }
 ],
 "metadata": {
  "kernelspec": {
   "display_name": "Python 3 (ipykernel)",
   "language": "python",
   "name": "python3"
  },
  "language_info": {
   "codemirror_mode": {
    "name": "ipython",
    "version": 3
   },
   "file_extension": ".py",
   "mimetype": "text/x-python",
   "name": "python",
   "nbconvert_exporter": "python",
   "pygments_lexer": "ipython3",
   "version": "3.10.8"
  }
 },
 "nbformat": 4,
 "nbformat_minor": 5
}
