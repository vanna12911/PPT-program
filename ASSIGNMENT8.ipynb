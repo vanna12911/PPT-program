{
 "cells": [
  {
   "attachments": {},
   "cell_type": "markdown",
   "metadata": {},
   "source": [
    "\n",
    "💡 **Question 1**\n",
    "\n",
    "Given two strings s1 and s2, return *the lowest **ASCII** sum of deleted characters to make two strings equal*.\n",
    "\n",
    "**Example 1:**\n",
    "\n",
    "**Input:** s1 = \"sea\", s2 = \"eat\"\n",
    "\n",
    "**Output:** 231\n",
    "\n",
    "**Explanation:** Deleting \"s\" from \"sea\" adds the ASCII value of \"s\" (115) to the sum.\n",
    "\n",
    "Deleting \"t\" from \"eat\" adds 116 to the sum.\n",
    "\n",
    "At the end, both strings are equal, and 115 + 116 = 231 is the minimum sum possible to achieve this.\n"
   ]
  },
  {
   "cell_type": "code",
   "execution_count": 1,
   "metadata": {},
   "outputs": [],
   "source": [
    "\n",
    "def minimumDeleteSum(s1, s2):\n",
    "    dp = [[0 for j in range(len(s2)+1)] for i in range(len(s1)+1)]\n",
    "    for i in range(len(s1)-1,-1,-1):\n",
    "        for j in range(len(s2)-1,-1,-1):\n",
    "            if s1[i] == s2[j]:\n",
    "                dp[i][j] = ord(s1[i]) + dp[i+1][j+1]\n",
    "            else:\n",
    "                dp[i][j] = max(dp[i+1][j],dp[i][j+1])                    \n",
    "    total = 0\n",
    "    for c in s1:\n",
    "        total += ord(c)\n",
    "    for c in s2:\n",
    "        total += ord(c)\n",
    "    return total - dp[0][0]*2"
   ]
  },
  {
   "cell_type": "code",
   "execution_count": 2,
   "metadata": {},
   "outputs": [
    {
     "data": {
      "text/plain": [
       "231"
      ]
     },
     "execution_count": 2,
     "metadata": {},
     "output_type": "execute_result"
    }
   ],
   "source": [
    "s1 = \"sea\"\n",
    "s2 = \"eat\"\n",
    "minimumDeleteSum(s1, s2)"
   ]
  },
  {
   "attachments": {},
   "cell_type": "markdown",
   "metadata": {},
   "source": [
    "\n",
    "💡 **Question 2**\n",
    "\n",
    "Given a string s containing only three types of characters: '(', ')' and '*', return true *if* s *is **valid***.\n",
    "\n",
    "The following rules define a **valid** string:\n",
    "\n",
    "- Any left parenthesis '(' must have a corresponding right parenthesis ')'.\n",
    "- Any right parenthesis ')' must have a corresponding left parenthesis '('.\n",
    "- Left parenthesis '(' must go before the corresponding right parenthesis ')'.\n",
    "- '*' could be treated as a single right parenthesis ')' or a single left parenthesis '(' or an empty string \"\".\n",
    "\n",
    "**Example 1:**\n",
    "\n",
    "**Input:** s = \"()\"\n",
    "\n",
    "**Output:**\n",
    "\n",
    "true\n",
    "\n"
   ]
  },
  {
   "cell_type": "code",
   "execution_count": 16,
   "metadata": {},
   "outputs": [],
   "source": [
    "def checkValidString(s):\n",
    "    st=[]\n",
    "    sr=[]\n",
    "    for i in range(len(s)):\n",
    "        if s[i]=='(':\n",
    "            st.append(i)\n",
    "        elif s[i]== '*':\n",
    "            sr.append(i)\n",
    "        else:\n",
    "            if st:\n",
    "                st.pop()\n",
    "            elif sr:\n",
    "                sr.pop()\n",
    "            else:\n",
    "                return False\n",
    "    while st:\n",
    "        if len(sr)==0:\n",
    "            return False\n",
    "        elif st[-1]< sr[-1]:\n",
    "            st.pop()\n",
    "            sr.pop()\n",
    "        else:\n",
    "            return False\n",
    "    return True\n"
   ]
  },
  {
   "cell_type": "code",
   "execution_count": 17,
   "metadata": {},
   "outputs": [
    {
     "data": {
      "text/plain": [
       "True"
      ]
     },
     "execution_count": 17,
     "metadata": {},
     "output_type": "execute_result"
    }
   ],
   "source": [
    "s = \"(*)\"\n",
    "checkValidString(s)\n"
   ]
  },
  {
   "attachments": {},
   "cell_type": "markdown",
   "metadata": {},
   "source": [
    "\n",
    "💡 **Question 3**\n",
    "\n",
    "Given two strings word1 and word2, return *the minimum number of **steps** required to make* word1 *and* word2 *the same*.\n",
    "\n",
    "In one **step**, you can delete exactly one character in either string.\n",
    "\n",
    "**Example 1:**\n",
    "\n",
    "**Input:** word1 = \"sea\", word2 = \"eat\"\n",
    "\n",
    "**Output:** 2\n",
    "\n",
    "**Explanation:** You need one step to make \"sea\" to \"ea\" and another step to make \"eat\" to \"ea\".\n",
    "\n"
   ]
  },
  {
   "cell_type": "code",
   "execution_count": 18,
   "metadata": {},
   "outputs": [],
   "source": [
    "\n",
    "def minDistance(word1, word2):\n",
    "    m=len(word1)\n",
    "    n=len(word2)\n",
    "    dp=[]\n",
    "    for i in range (m+1):\n",
    "        dp.append([0]*(n+1))\n",
    "    for i in range (m+1):\n",
    "        dp[i][0]=i\n",
    "    for i in range (n+1):\n",
    "        dp[0][i]=i\n",
    "    for i in range (1,m+1):\n",
    "        for j in range (1,n+1):\n",
    "            if word1[i-1]==word2[j-1]:\n",
    "                dp[i][j]=dp[i-1][j-1]\n",
    "            else:\n",
    "                dp[i][j]=min(dp[i][j-1],dp[i-1][j])+1\n",
    "    return dp[-1][-1]\n",
    "    "
   ]
  },
  {
   "cell_type": "code",
   "execution_count": 19,
   "metadata": {},
   "outputs": [
    {
     "data": {
      "text/plain": [
       "2"
      ]
     },
     "execution_count": 19,
     "metadata": {},
     "output_type": "execute_result"
    }
   ],
   "source": [
    "word1 = \"sea\"\n",
    "word2 = \"eat\"\n",
    "minDistance(word1, word2)"
   ]
  },
  {
   "attachments": {},
   "cell_type": "markdown",
   "metadata": {},
   "source": [
    "\n",
    "💡 **Question 4**\n",
    "\n",
    "You need to construct a binary tree from a string consisting of parenthesis and integers.\n",
    "\n",
    "The whole input represents a binary tree. It contains an integer followed by zero, one or two pairs of parenthesis. The integer represents the root's value and a pair of parenthesis contains a child binary tree with the same structure.\n",
    "You always start to construct the **left** child node of the parent first if it exists.\n",
    "\n",
    "**Input:** s = \"4(2(3)(1))(6(5))\"\n",
    "\n",
    "**Output:** [4,2,6,3,1,5]\n",
    "\n"
   ]
  },
  {
   "cell_type": "code",
   "execution_count": 56,
   "metadata": {},
   "outputs": [
    {
     "name": "stdout",
     "output_type": "stream",
     "text": [
      "4\n",
      "2\n",
      "3\n",
      "1\n",
      "6\n",
      "5\n"
     ]
    }
   ],
   "source": [
    "class TreeNode:\n",
    "    def __init__(self, val=0, left=None, right=None):\n",
    "        self.val = val\n",
    "        self.left = left\n",
    "        self.right = right\n",
    "\n",
    "def str2tree(s):\n",
    "    if not s:\n",
    "        return None\n",
    "\n",
    "    i = 0\n",
    "    while i < len(s) and s[i] != '(':\n",
    "        i += 1\n",
    "\n",
    "    if i == len(s):\n",
    "        return TreeNode(int(s))\n",
    "\n",
    "    root_val = int(s[:i])\n",
    "    root = TreeNode(root_val)\n",
    "\n",
    "    count = 0\n",
    "    j = i\n",
    "    while j < len(s):\n",
    "        if s[j] == '(':\n",
    "            count += 1\n",
    "        elif s[j] == ')':\n",
    "            count -= 1\n",
    "\n",
    "        if count == 0:\n",
    "            break\n",
    "\n",
    "        j += 1\n",
    "\n",
    "    root.left = str2tree(s[i+1:j])\n",
    "\n",
    "    if j+1 < len(s):\n",
    "        root.right = str2tree(s[j+2:len(s)-1])\n",
    "\n",
    "    return root\n",
    "\n",
    "# Test the function\n",
    "s = \"4(2(3)(1))(6(5))\"\n",
    "root = str2tree(s)\n",
    "\n",
    "# Display the resulting tree\n",
    "def display_tree(root):\n",
    "    if root is None:\n",
    "        return\n",
    "\n",
    "    print(root.val)\n",
    "    display_tree(root.left)\n",
    "    display_tree(root.right)\n",
    "\n",
    "display_tree(root)\n"
   ]
  },
  {
   "attachments": {},
   "cell_type": "markdown",
   "metadata": {},
   "source": [
    "\n",
    "💡 **Question 5**\n",
    "\n",
    "Given an array of characters chars, compress it using the following algorithm:\n",
    "\n",
    "Begin with an empty string s. For each group of **consecutive repeating characters** in chars:\n",
    "\n",
    "- If the group's length is 1, append the character to s.\n",
    "- Otherwise, append the character followed by the group's length.\n",
    "\n",
    "The compressed string s **should not be returned separately**, but instead, be stored **in the input character array chars**. Note that group lengths that are 10 or longer will be split into multiple characters in chars.\n",
    "\n",
    "After you are done **modifying the input array,** return *the new length of the array*.\n",
    "\n",
    "You must write an algorithm that uses only constant extra space.\n",
    "\n",
    "**Example 1:**\n",
    "\n",
    "**Input:** chars = [\"a\",\"a\",\"b\",\"b\",\"c\",\"c\",\"c\"]\n",
    "\n",
    "**Output:** Return 6, and the first 6 characters of the input array should be: [\"a\",\"2\",\"b\",\"2\",\"c\",\"3\"]\n",
    "\n",
    "**Explanation:**\n",
    "\n",
    "The groups are \"aa\", \"bb\", and \"ccc\". This compresses to \"a2b2c3\".\n",
    "\n"
   ]
  },
  {
   "cell_type": "code",
   "execution_count": 28,
   "metadata": {},
   "outputs": [],
   "source": [
    "\n",
    "def compress(chars):\n",
    "    s = \"\"\n",
    "    point1 = 0\n",
    "    point2 = 1\n",
    "    # chars = [\"a\",\"b\",\"b\"]\n",
    "\n",
    "    if len(chars)==1:\n",
    "        return len(chars)\n",
    "    for i in range(1,len(chars)):\n",
    "\n",
    "        # print(chars[i])\n",
    "        if chars[point1] == chars[i]:\n",
    "            # print(chars[i])\n",
    "            # print(i,chars[i])\n",
    "            point2 += 1\n",
    "            # print(point2)\n",
    "            if(i==len(chars)-1):\n",
    "                s+=chars[len(chars)-1]+str(point2)\n",
    "                \n",
    "        elif chars[point1]!= chars[i]:\n",
    "            if(point2!=1):\n",
    "                s += chars[point1] + str(point2)\n",
    "            else:\n",
    "                s+=chars[point1]\n",
    "            \n",
    "            point1 = i\n",
    "            point2 = 1\n",
    "            \n",
    "            if(i==len(chars)-1):\n",
    "                if(point2!=1):\n",
    "                    s+=chars[len(chars)-1]+str(point2)\n",
    "                else:\n",
    "                    s+=chars[len(chars)-1]\n",
    "                    \n",
    "                \n",
    "    for i in range(len(s)):\n",
    "        chars[i]=s[i]\n",
    "    return len(s)\n",
    "    # print(s)\n"
   ]
  },
  {
   "cell_type": "code",
   "execution_count": 29,
   "metadata": {},
   "outputs": [
    {
     "data": {
      "text/plain": [
       "6"
      ]
     },
     "execution_count": 29,
     "metadata": {},
     "output_type": "execute_result"
    }
   ],
   "source": [
    "chars = [\"a\",\"a\",\"b\",\"b\",\"c\",\"c\",\"c\"]\n",
    "compress(chars)"
   ]
  },
  {
   "attachments": {},
   "cell_type": "markdown",
   "metadata": {},
   "source": [
    "\n",
    "💡 **Question 6**\n",
    "\n",
    "Given two strings s and p, return *an array of all the start indices of* p*'s anagrams in* s. You may return the answer in **any order**.\n",
    "\n",
    "An **Anagram** is a word or phrase formed by rearranging the letters of a different word or phrase, typically using all the original letters exactly once.\n",
    "\n",
    "**Example 1:**\n",
    "\n",
    "**Input:** s = \"cbaebabacd\", p = \"abc\"\n",
    "\n",
    "**Output:** [0,6]\n",
    "\n",
    "**Explanation:**\n",
    "\n",
    "The substring with start index = 0 is \"cba\", which is an anagram of \"abc\".\n",
    "\n",
    "The substring with start index = 6 is \"bac\", which is an anagram of \"abc\".\n",
    "\n"
   ]
  },
  {
   "cell_type": "code",
   "execution_count": 31,
   "metadata": {},
   "outputs": [],
   "source": [
    "\n",
    "from collections import defaultdict\n",
    "def findAnagrams(s, p):\n",
    "    hm, res, pL, sL = defaultdict(int), [], len(p), len(s)\n",
    "    if pL > sL: return []\n",
    "\n",
    "    # build hashmap\n",
    "    for ch in p: hm[ch] += 1\n",
    "\n",
    "    # initial full pass over the window\n",
    "    for i in range(pL-1):\n",
    "        if s[i] in hm: hm[s[i]] -= 1\n",
    "        \n",
    "    # slide the window with stride 1\n",
    "    for i in range(-1, sL-pL+1):\n",
    "        if i > -1 and s[i] in hm:\n",
    "            hm[s[i]] += 1\n",
    "        if i+pL < sL and s[i+pL] in hm: \n",
    "            hm[s[i+pL]] -= 1\n",
    "            \n",
    "        # check whether we encountered an anagram\n",
    "        if all(v == 0 for v in hm.values()): \n",
    "            res.append(i+1)\n",
    "            \n",
    "    return res"
   ]
  },
  {
   "cell_type": "code",
   "execution_count": 32,
   "metadata": {},
   "outputs": [
    {
     "data": {
      "text/plain": [
       "[0, 6]"
      ]
     },
     "execution_count": 32,
     "metadata": {},
     "output_type": "execute_result"
    }
   ],
   "source": [
    "s = \"cbaebabacd\"\n",
    "p = \"abc\"\n",
    "findAnagrams(s, p)"
   ]
  },
  {
   "attachments": {},
   "cell_type": "markdown",
   "metadata": {},
   "source": [
    "<aside>\n",
    "💡 **Question 7**\n",
    "\n",
    "Given an encoded string, return its decoded string.\n",
    "\n",
    "The encoding rule is: k[encoded_string], where the encoded_string inside the square brackets is being repeated exactly k times. Note that k is guaranteed to be a positive integer.\n",
    "\n",
    "You may assume that the input string is always valid; there are no extra white spaces, square brackets are well-formed, etc. Furthermore, you may assume that the original data does not contain any digits and that digits are only for those repeat numbers, k. For example, there will not be input like 3a or 2[4].\n",
    "\n",
    "The test cases are generated so that the length of the output will never exceed 105.\n",
    "\n",
    "**Example 1:**\n",
    "\n",
    "**Input:** s = \"3[a]2[bc]\"\n",
    "\n",
    "**Output:** \"aaabcbc\"\n",
    "\n",
    "</aside>"
   ]
  },
  {
   "cell_type": "code",
   "execution_count": 38,
   "metadata": {},
   "outputs": [],
   "source": [
    "\n",
    "def decodeString(s):\n",
    "\n",
    "    stack=[]\n",
    "\n",
    "    for c in s:\n",
    "        if c!=']':\n",
    "            stack.append(c)\n",
    "        else:\n",
    "            res=''\n",
    "            while stack[-1]!='[':\n",
    "                res+=stack.pop()\n",
    "            stack.pop()\n",
    "            n=''\n",
    "            while len(stack)!=0 and stack[-1].isdigit()==True:\n",
    "                n+=stack.pop()\n",
    "            stack.append(res*int(n[::-1]))\n",
    "\n",
    "    return ''.join([word[::-1] for word in stack])\n",
    "\n",
    "\n",
    "\n",
    "    "
   ]
  },
  {
   "cell_type": "code",
   "execution_count": 39,
   "metadata": {},
   "outputs": [
    {
     "data": {
      "text/plain": [
       "'aaabcbc'"
      ]
     },
     "execution_count": 39,
     "metadata": {},
     "output_type": "execute_result"
    }
   ],
   "source": [
    "s = \"3[a]2[bc]\"\n",
    "decodeString(s)"
   ]
  },
  {
   "attachments": {},
   "cell_type": "markdown",
   "metadata": {},
   "source": [
    "<aside>\n",
    "💡 **Question 8**\n",
    "\n",
    "Given two strings s and goal, return true *if you can swap two letters in* s *so the result is equal to* goal*, otherwise, return* false*.*\n",
    "\n",
    "Swapping letters is defined as taking two indices i and j (0-indexed) such that i != j and swapping the characters at s[i] and s[j].\n",
    "\n",
    "- For example, swapping at indices 0 and 2 in \"abcd\" results in \"cbad\".\n",
    "\n",
    "**Example 1:**\n",
    "\n",
    "**Input:** s = \"ab\", goal = \"ba\"\n",
    "\n",
    "**Output:** true\n",
    "\n",
    "**Explanation:** You can swap s[0] = 'a' and s[1] = 'b' to get \"ba\", which is equal to goal.\n",
    "\n",
    "</aside>"
   ]
  },
  {
   "cell_type": "code",
   "execution_count": 40,
   "metadata": {},
   "outputs": [],
   "source": [
    "\n",
    "def buddyStrings(s, goal):\n",
    "    ns = len(s)\n",
    "    ng = len(goal)\n",
    "\n",
    "    if ns != ng:\n",
    "        return False\n",
    "\n",
    "    if s == goal:\n",
    "        farr = [0] * 26\n",
    "        for ch in s:\n",
    "            farr[ord(ch) - ord('a')] += 1\n",
    "        \n",
    "        for count in farr:\n",
    "            if count > 1:\n",
    "                return True\n",
    "        \n",
    "        return False\n",
    "\n",
    "    ans = []\n",
    "    for i in range(ns):\n",
    "        if s[i] != goal[i]:\n",
    "            ans.append(i)\n",
    "            if len(ans) > 2:\n",
    "                return False\n",
    "\n",
    "    return len(ans) == 2 and s[ans[0]] == goal[ans[1]] and s[ans[1]] == goal[ans[0]]"
   ]
  },
  {
   "cell_type": "code",
   "execution_count": 43,
   "metadata": {},
   "outputs": [
    {
     "data": {
      "text/plain": [
       "True"
      ]
     },
     "execution_count": 43,
     "metadata": {},
     "output_type": "execute_result"
    }
   ],
   "source": [
    "s = \"ab\"\n",
    "goal = \"ba\"\n",
    "buddyStrings(s, goal)"
   ]
  }
 ],
 "metadata": {
  "kernelspec": {
   "display_name": "Python 3",
   "language": "python",
   "name": "python3"
  },
  "language_info": {
   "codemirror_mode": {
    "name": "ipython",
    "version": 3
   },
   "file_extension": ".py",
   "mimetype": "text/x-python",
   "name": "python",
   "nbconvert_exporter": "python",
   "pygments_lexer": "ipython3",
   "version": "3.10.6"
  },
  "orig_nbformat": 4
 },
 "nbformat": 4,
 "nbformat_minor": 2
}
