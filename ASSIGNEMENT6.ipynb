{
 "cells": [
  {
   "attachments": {},
   "cell_type": "markdown",
   "metadata": {},
   "source": [
    "\n",
    "💡 **Question 1**\n",
    "\n",
    "A permutation perm of n + 1 integers of all the integers in the range [0, n] can be represented as a string s of length n where:\n",
    "\n",
    "- s[i] == 'I' if perm[i] < perm[i + 1], and\n",
    "- s[i] == 'D' if perm[i] > perm[i + 1].\n",
    "\n",
    "Given a string s, reconstruct the permutation perm and return it. If there are multiple valid permutations perm, return **any of them**.\n",
    "\n",
    "**Example 1:**\n",
    "\n",
    "**Input:** s = \"IDID\"\n",
    "\n",
    "**Output:**\n",
    "\n",
    "[0,4,1,3,2]\n",
    "\n"
   ]
  },
  {
   "cell_type": "code",
   "execution_count": 1,
   "metadata": {},
   "outputs": [
    {
     "data": {
      "text/plain": [
       "[0, 4, 1, 3, 2]"
      ]
     },
     "execution_count": 1,
     "metadata": {},
     "output_type": "execute_result"
    }
   ],
   "source": [
    "\n",
    "def diStringMatch(s):\n",
    "    nums=list(range(len(s)+1))\n",
    "    res=[]\n",
    "    for i in range(len(s)):\n",
    "        if s[i]==\"I\":\n",
    "            res.append(nums[0])\n",
    "            nums.pop(0)\n",
    "        else:\n",
    "            res.append(nums[-1])\n",
    "            nums.pop()\n",
    "    return res+nums\n",
    "\n",
    "s = \"IDID\"\n",
    "diStringMatch(s)"
   ]
  },
  {
   "attachments": {},
   "cell_type": "markdown",
   "metadata": {},
   "source": [
    "\n",
    "💡 **Question 2**\n",
    "\n",
    "You are given an m x n integer matrix matrix with the following two properties:\n",
    "\n",
    "- Each row is sorted in non-decreasing order.\n",
    "- The first integer of each row is greater than the last integer of the previous row.\n",
    "\n",
    "Given an integer target, return true *if* target *is in* matrix *or* false *otherwise*.\n",
    "\n",
    "You must write a solution in O(log(m * n)) time complexity.\n",
    "\n",
    "**Example 1:**\n",
    "\n",
    "**Input:** matrix = [[1,3,5,7],[10,11,16,20],[23,30,34,60]], target = 3\n",
    "\n",
    "**Output:** true"
   ]
  },
  {
   "cell_type": "code",
   "execution_count": 2,
   "metadata": {},
   "outputs": [
    {
     "data": {
      "text/plain": [
       "True"
      ]
     },
     "execution_count": 2,
     "metadata": {},
     "output_type": "execute_result"
    }
   ],
   "source": [
    "def searchMatrix(matrix,target):\n",
    "    row,col=len(matrix),len(matrix[0])\n",
    "    left,right=0,row*col-1\n",
    "    while left<=right:\n",
    "        mid=(left+right)//2\n",
    "        num=matrix[mid//col][mid%col]\n",
    "        if num==target:\n",
    "            return True\n",
    "        if num>target:\n",
    "            right=mid-1\n",
    "        else:\n",
    "            left=mid+1\n",
    "    return False\n",
    "\n",
    "matrix = [[1,3,5,7],[10,11,16,20],[23,30,34,60]]\n",
    "target = 3\n",
    "searchMatrix(matrix , target)"
   ]
  },
  {
   "attachments": {},
   "cell_type": "markdown",
   "metadata": {},
   "source": [
    "\n",
    "💡 **Question 3**\n",
    "\n",
    "Given an array of integers arr, return *true if and only if it is a valid mountain array*.\n",
    "\n",
    "Recall that arr is a mountain array if and only if:\n",
    "\n",
    "- arr.length >= 3\n",
    "- There exists some i with 0 < i < arr.length - 1 such that:\n",
    "    - arr[0] < arr[1] < ... < arr[i - 1] < arr[i]\n",
    "    - arr[i] > arr[i + 1] > ... > arr[arr.length - 1]\n",
    "\n",
    "**Example 1:**\n",
    "\n",
    "**Input:** arr = [2,1]\n",
    "\n",
    "**Output:**\n",
    "\n",
    "false\n"
   ]
  },
  {
   "cell_type": "code",
   "execution_count": 3,
   "metadata": {},
   "outputs": [
    {
     "data": {
      "text/plain": [
       "False"
      ]
     },
     "execution_count": 3,
     "metadata": {},
     "output_type": "execute_result"
    }
   ],
   "source": [
    "\n",
    "def validMountainArray(arr):\n",
    "    if len(arr) >=3 :\n",
    "        \n",
    "        peak = arr.index(max(arr))\n",
    "        \n",
    "        if peak!=0 and peak!=len(arr)-1:\n",
    "            \n",
    "            left = arr[:peak]\n",
    "            left_s = sorted(left)\n",
    "\n",
    "            right = arr[peak:]\n",
    "            right_s = sorted(right,reverse=True)\n",
    "\n",
    "            R_A = len(right_s)\n",
    "            R_B = len(set(right))\n",
    "            L_A = len(left_s)\n",
    "            L_B = len(set(left))\n",
    "\n",
    "            if left_s == left and L_A == L_B and right_s == right and R_A == R_B:\n",
    "                return True\n",
    "            else:\n",
    "                return False\n",
    "        else:\n",
    "            return False\n",
    "    else:\n",
    "        return False\n",
    "    \n",
    "\n",
    "arr = [2,1]\n",
    "validMountainArray(arr)\n",
    "\n",
    "                    \n",
    "            \n",
    "        "
   ]
  },
  {
   "attachments": {},
   "cell_type": "markdown",
   "metadata": {},
   "source": [
    "\n",
    "💡 **Question 4**\n",
    "\n",
    "Given a binary array nums, return *the maximum length of a contiguous subarray with an equal number of* 0 *and* 1.\n",
    "\n",
    "**Example 1:**\n",
    "\n",
    "**Input:** nums = [0,1]\n",
    "\n",
    "**Output:** 2\n",
    "\n",
    "**Explanation:**\n",
    "\n",
    "[0, 1] is the longest contiguous subarray with an equal number of 0 and 1.\n"
   ]
  },
  {
   "cell_type": "code",
   "execution_count": 4,
   "metadata": {},
   "outputs": [
    {
     "data": {
      "text/plain": [
       "2"
      ]
     },
     "execution_count": 4,
     "metadata": {},
     "output_type": "execute_result"
    }
   ],
   "source": [
    "\n",
    "def findMaxLength(nums):\n",
    "    m,c=0,0\n",
    "    d={0:-1}\n",
    "    for i in range(len(nums)):\n",
    "        if nums[i]==0:\n",
    "            c-=1\n",
    "        else:\n",
    "            c+=1\n",
    "        if c in d:\n",
    "            m=max(m,i-d[c])\n",
    "        else:\n",
    "            d[c]=i\n",
    "    return m\n",
    "\n",
    "nums = [0,1]\n",
    "findMaxLength(nums)"
   ]
  },
  {
   "attachments": {},
   "cell_type": "markdown",
   "metadata": {},
   "source": [
    "\n",
    "💡 **Question 5**\n",
    "\n",
    "The **product sum** of two equal-length arrays a and b is equal to the sum of a[i] * b[i] for all 0 <= i < a.length (**0-indexed**).\n",
    "\n",
    "- For example, if a = [1,2,3,4] and b = [5,2,3,1], the **product sum** would be 1*5 + 2*2 + 3*3 + 4*1 = 22.\n",
    "\n",
    "Given two arrays nums1 and nums2 of length n, return *the **minimum product sum** if you are allowed to **rearrange** the **order** of the elements in* nums1.\n",
    "\n",
    "**Example 1:**\n",
    "\n",
    "**Input:** nums1 = [5,3,4,2], nums2 = [4,2,2,5]\n",
    "\n",
    "**Output:** 40\n",
    "\n",
    "**Explanation:**\n",
    "\n",
    "We can rearrange nums1 to become [3,5,4,2]. The product sum of [3,5,4,2] and [4,2,2,5] is 3*4 + 5*2 + 4*2 + 2*5 = 40.\n"
   ]
  },
  {
   "cell_type": "code",
   "execution_count": 10,
   "metadata": {},
   "outputs": [
    {
     "name": "stdout",
     "output_type": "stream",
     "text": [
      "Minimum product sum:  40\n"
     ]
    }
   ],
   "source": [
    "\n",
    "def minProductSum(nums1,nums2):\n",
    "    nums1.sort()\n",
    "    nums2.sort()\n",
    "    n, res = len(nums1), 0\n",
    "    for i in range(n):\n",
    "        res += nums1[i] * nums2[n - i - 1]\n",
    "    return res\n",
    "\n",
    "nums1 = [5,4,3,2]\n",
    "nums2 = [4,2,2,5]\n",
    "print(\"Minimum product sum: \",minProductSum(nums1,nums2)) \n"
   ]
  },
  {
   "attachments": {},
   "cell_type": "markdown",
   "metadata": {},
   "source": [
    "### Question 6.\n",
    "An integer array original is transformed into a **doubled** array changed by appending **twice the value** of every element in original, and then randomly **shuffling** the resulting array.\n",
    "\n",
    "Given an array changed, return original *if* changed *is a **doubled** array. If* changed *is not a **doubled** array, return an empty array. The elements in* original *may be returned in **any** order*.\n",
    "\n",
    "**Example 1:**\n",
    "\n",
    "**Input:** changed = [1,3,4,2,6,8]\n",
    "\n",
    "**Output:** [1,3,4]\n",
    "\n",
    "**Explanation:** One possible original array could be [1,3,4]:\n",
    "\n",
    "- Twice the value of 1 is 1 * 2 = 2.\n",
    "- Twice the value of 3 is 3 * 2 = 6.\n",
    "- Twice the value of 4 is 4 * 2 = 8.\n",
    "\n",
    "Other original arrays could be [4,3,1] or [3,1,4]."
   ]
  },
  {
   "cell_type": "code",
   "execution_count": 5,
   "metadata": {},
   "outputs": [
    {
     "data": {
      "text/plain": [
       "[1, 3, 4]"
      ]
     },
     "execution_count": 5,
     "metadata": {},
     "output_type": "execute_result"
    }
   ],
   "source": [
    "from collections import Counter\n",
    "\n",
    "def findOriginalArray(changed):\n",
    "    c = Counter(changed)\n",
    "\n",
    "    zeros, m = divmod(c[0], 2)\n",
    "    if m: return []\n",
    "    ans = [0]*zeros   \n",
    "\n",
    "    for n in sorted(c.keys()):\n",
    "        if c[n] > c[2*n]: return []\n",
    "        c[2*n]-= c[n]\n",
    "        ans.extend([n]*c[n])\n",
    "\n",
    "    return ans\n",
    "\n",
    "changed =[1,3,4,2,6,8]\n",
    "findOriginalArray(changed)"
   ]
  },
  {
   "attachments": {},
   "cell_type": "markdown",
   "metadata": {},
   "source": [
    "### Question 7\n",
    "Given a positive integer n, generate an n x n matrix filled with elements from 1 to n2 in spiral order.\n",
    "\n",
    "**Example 1:**\n",
    "**Input:** n = 3\n",
    "\n",
    "**Output:** [[1,2,3],[8,9,4],[7,6,5]]"
   ]
  },
  {
   "cell_type": "code",
   "execution_count": 8,
   "metadata": {},
   "outputs": [
    {
     "data": {
      "text/plain": [
       "[[1, 2, 3], [8, 9, 4], [7, 6, 5]]"
      ]
     },
     "execution_count": 8,
     "metadata": {},
     "output_type": "execute_result"
    }
   ],
   "source": [
    "\n",
    "def generateMatrix(n):\n",
    "    if not n:\n",
    "        return []\n",
    "    matrix = [[0 for _ in range(n)] for _ in range(n)]\n",
    "    left, right, top, bottom, num = 0, n-1, 0, n-1, 1\n",
    "    while left <= right and top <= bottom:\n",
    "        for i in range(left, right+1):\n",
    "            matrix[top][i] = num \n",
    "            num += 1\n",
    "        top += 1\n",
    "        for i in range(top, bottom+1):\n",
    "            matrix[i][right] = num\n",
    "            num += 1\n",
    "        right -= 1\n",
    "        if top <= bottom:\n",
    "            for i in range(right, left-1, -1):\n",
    "                matrix[bottom][i] = num\n",
    "                num += 1\n",
    "            bottom -= 1\n",
    "        if left <= right:\n",
    "            for i in range(bottom, top-1, -1):\n",
    "                matrix[i][left] = num\n",
    "                num += 1\n",
    "            left += 1\n",
    "    return matrix\n",
    "\n",
    "\n",
    "n= 3\n",
    "generateMatrix(n)\n",
    "    "
   ]
  },
  {
   "attachments": {},
   "cell_type": "markdown",
   "metadata": {},
   "source": [
    "\n",
    "💡 **Question 8**\n",
    "\n",
    "Given two [sparse matrices]mat1 of size m x k and mat2 of size k x n, return the result of mat1 x mat2. You may assume that multiplication is always possible.\n",
    "\n",
    "**Example 1:**\n",
    "**Input:** mat1 = [[1,0,0],[-1,0,3]], mat2 = [[7,0,0],[0,0,0],[0,0,1]]\n",
    "\n",
    "**Output:**\n",
    "\n",
    "[[7,0,0],[-7,0,3]]\n"
   ]
  },
  {
   "cell_type": "code",
   "execution_count": 9,
   "metadata": {},
   "outputs": [
    {
     "data": {
      "text/plain": [
       "[[7, 0, 0], [-7, 0, 3]]"
      ]
     },
     "execution_count": 9,
     "metadata": {},
     "output_type": "execute_result"
    }
   ],
   "source": [
    "\n",
    "def multiply(mat1, mat2):\n",
    "    r1, c1, c2 = len(mat1), len(mat1[0]), len(mat2[0])\n",
    "    res = [[0] * c2 for _ in range(r1)]\n",
    "    for i in range(r1):\n",
    "        for j in range(c2):\n",
    "            for k in range(c1):\n",
    "                res[i][j] += mat1[i][k] * mat2[k][j]\n",
    "    return res\n",
    "\n",
    "mat1 = [[1,0,0],[-1,0,3]]\n",
    "mat2 = [[7,0,0],[0,0,0],[0,0,1]]\n",
    "multiply(mat1 , mat2)\n"
   ]
  }
 ],
 "metadata": {
  "kernelspec": {
   "display_name": "Python 3",
   "language": "python",
   "name": "python3"
  },
  "language_info": {
   "codemirror_mode": {
    "name": "ipython",
    "version": 3
   },
   "file_extension": ".py",
   "mimetype": "text/x-python",
   "name": "python",
   "nbconvert_exporter": "python",
   "pygments_lexer": "ipython3",
   "version": "3.10.6"
  },
  "orig_nbformat": 4
 },
 "nbformat": 4,
 "nbformat_minor": 2
}
