{
 "cells": [
  {
   "cell_type": "code",
   "execution_count": 60,
   "metadata": {},
   "outputs": [
    {
     "name": "stdout",
     "output_type": "stream",
     "text": [
      "!dlroW ,olleH\n"
     ]
    }
   ],
   "source": [
    "# 1. Write a Python program to reverse a string without using any built-in string reversal functions.\n",
    "\n",
    "def reverse_string(string):\n",
    "    reversed_string = \"\"\n",
    "    for i in range(len(string) - 1, -1, -1):\n",
    "        reversed_string += string[i]\n",
    "    return reversed_string\n",
    "\n",
    "# Example usage\n",
    "original_string = \"Hello, World!\"\n",
    "reversed_string = reverse_string(original_string)\n",
    "print(reversed_string)  # Output: \"!dlroW ,olleH\"\n"
   ]
  },
  {
   "cell_type": "code",
   "execution_count": 61,
   "metadata": {},
   "outputs": [
    {
     "name": "stdout",
     "output_type": "stream",
     "text": [
      "True\n"
     ]
    }
   ],
   "source": [
    "# 2. Implement a function to check if a given string is a palindrome.\n",
    "def is_palindrome(string):\n",
    "    reversed_string = string[::-1]\n",
    "    return string == reversed_string\n",
    "\n",
    "# Example usage\n",
    "test_string = \"radar\"\n",
    "print(is_palindrome(test_string))  # Output: True\n"
   ]
  },
  {
   "cell_type": "code",
   "execution_count": 62,
   "metadata": {},
   "outputs": [
    {
     "name": "stdout",
     "output_type": "stream",
     "text": [
      "30\n"
     ]
    }
   ],
   "source": [
    "# 3. Write a program to find the largest element in a given list.\n",
    "def find_largest_element(lst):\n",
    "    if not lst:\n",
    "        return None\n",
    "    largest = lst[0]\n",
    "    for num in lst:\n",
    "        if num > largest:\n",
    "            largest = num\n",
    "    return largest\n",
    "\n",
    "# Example usage\n",
    "numbers = [10, 5, 20, 15, 30]\n",
    "largest_number = find_largest_element(numbers)\n",
    "print(largest_number)  # Output: 30\n"
   ]
  },
  {
   "cell_type": "code",
   "execution_count": 63,
   "metadata": {},
   "outputs": [
    {
     "name": "stdout",
     "output_type": "stream",
     "text": [
      "{1: 3, 2: 2, 3: 1, 4: 1}\n"
     ]
    }
   ],
   "source": [
    "# 4. Implement a function to count the occurrence of each element in a list.\n",
    "def count_occurrences(lst):\n",
    "    occurrence_count = {}\n",
    "    for item in lst:\n",
    "        occurrence_count[item] = occurrence_count.get(item, 0) + 1\n",
    "    return occurrence_count\n",
    "\n",
    "# Example usage\n",
    "numbers = [1, 2, 1, 3, 2, 4, 1]\n",
    "occurrences = count_occurrences(numbers)\n",
    "print(occurrences)  # Output: {1: 3, 2: 2, 3: 1, 4: 1}\n"
   ]
  },
  {
   "cell_type": "code",
   "execution_count": 64,
   "metadata": {},
   "outputs": [
    {
     "name": "stdout",
     "output_type": "stream",
     "text": [
      "20\n"
     ]
    }
   ],
   "source": [
    "# 5.Write a Python program to find the second largest number in a list.\n",
    "def find_second_largest(lst):\n",
    "    if len(lst) < 2:\n",
    "        return None\n",
    "    largest = second_largest = float('-inf')\n",
    "    for num in lst:\n",
    "        if num > largest:\n",
    "            second_largest = largest\n",
    "            largest = num\n",
    "        elif num > second_largest and num != largest:\n",
    "            second_largest = num\n",
    "    return second_largest\n",
    "\n",
    "# Example usage\n",
    "numbers = [10, 5, 20, 15, 30]\n",
    "second_largest_number = find_second_largest(numbers)\n",
    "print(second_largest_number)  # Output: 20\n"
   ]
  },
  {
   "cell_type": "code",
   "execution_count": 65,
   "metadata": {},
   "outputs": [
    {
     "name": "stdout",
     "output_type": "stream",
     "text": [
      "[1, 2, 3, 4]\n"
     ]
    }
   ],
   "source": [
    "# 6. Implement a function to remove duplicate elements from a list.\n",
    "\n",
    "def remove_duplicates(lst):\n",
    "    return list(set(lst))\n",
    "\n",
    "# Example usage\n",
    "numbers = [1, 2, 1, 3, 2, 4, 1]\n",
    "unique_numbers = remove_duplicates(numbers)\n",
    "print(unique_numbers)  # Output: [1, 2, 3, 4]\n"
   ]
  },
  {
   "cell_type": "code",
   "execution_count": 66,
   "metadata": {},
   "outputs": [
    {
     "name": "stdout",
     "output_type": "stream",
     "text": [
      "120\n"
     ]
    }
   ],
   "source": [
    "# 7. Write a program to calculate the factorial of a given number.\n",
    "\n",
    "def factorial(n):\n",
    "    if n == 0:\n",
    "        return 1\n",
    "    else:\n",
    "        return n * factorial(n - 1)\n",
    "\n",
    "# Example usage\n",
    "number = 5\n",
    "factorial_result = factorial(number)\n",
    "print(factorial_result)  # Output: 120\n"
   ]
  },
  {
   "cell_type": "code",
   "execution_count": 67,
   "metadata": {},
   "outputs": [
    {
     "name": "stdout",
     "output_type": "stream",
     "text": [
      "9  is a Prime Number!\n"
     ]
    }
   ],
   "source": [
    "# 8. Implement a function to check if a given number is prime.\n",
    "\n",
    "\n",
    "from math import sqrt\n",
    "\n",
    "# Number to be checked for prime\n",
    "n = 9\n",
    "\n",
    "flag = 0\n",
    "\n",
    "if(n > 1):\n",
    "\tfor k in range(2, int(sqrt(n)) + 1):\n",
    "\t\tif (n % k == 0):\n",
    "\t\t\tflag = 1\n",
    "\t\tbreak\n",
    "\tif (flag == 0):\n",
    "\t\tprint(n,\" is a Prime Number!\")\n",
    "\telse:\n",
    "\t\tprint(n,\" is Not a Prime Number!\")\n",
    "else:\n",
    "\tprint(n,\" is Not a Prime Number!\")\n"
   ]
  },
  {
   "cell_type": "code",
   "execution_count": 68,
   "metadata": {},
   "outputs": [
    {
     "name": "stdout",
     "output_type": "stream",
     "text": [
      "[1, 2, 4, 5, 7]\n"
     ]
    }
   ],
   "source": [
    "# 9. Write a Python program to sort a list of integers in ascending order.\n",
    "\n",
    "def sort_list(lst):\n",
    "    return sorted(lst)\n",
    "\n",
    "# Example usage\n",
    "numbers = [4, 2, 7, 1, 5]\n",
    "sorted_numbers = sort_list(numbers)\n",
    "print(sorted_numbers)  # Output: [1, 2, 4, 5, 7]\n"
   ]
  },
  {
   "cell_type": "code",
   "execution_count": 69,
   "metadata": {},
   "outputs": [
    {
     "name": "stdout",
     "output_type": "stream",
     "text": [
      "15\n"
     ]
    }
   ],
   "source": [
    "# 10. Implement a function to find the sum of all numbers in a list.\n",
    "def calculate_sum(lst):\n",
    "    total = 0\n",
    "    for num in lst:\n",
    "        total += num\n",
    "    return total\n",
    "\n",
    "# Example usage\n",
    "numbers = [1, 2, 3, 4, 5]\n",
    "sum_of_numbers = calculate_sum(numbers)\n",
    "print(sum_of_numbers)  # Output: 15\n"
   ]
  },
  {
   "cell_type": "code",
   "execution_count": 70,
   "metadata": {},
   "outputs": [
    {
     "name": "stdout",
     "output_type": "stream",
     "text": [
      "[4, 5]\n"
     ]
    }
   ],
   "source": [
    "# 11. Write a program to find the common elements between two lists.\n",
    "\n",
    "def find_common_elements(list1, list2):\n",
    "    set1 = set(list1)\n",
    "    set2 = set(list2)\n",
    "    common_elements = set1.intersection(set2)\n",
    "    return list(common_elements)\n",
    "\n",
    "# Example usage\n",
    "list1 = [1, 2, 3, 4, 5]\n",
    "list2 = [4, 5, 6, 7, 8]\n",
    "common_elements = find_common_elements(list1, list2)\n",
    "print(common_elements)  # Output: [4, 5]\n"
   ]
  },
  {
   "cell_type": "code",
   "execution_count": 71,
   "metadata": {},
   "outputs": [
    {
     "name": "stdout",
     "output_type": "stream",
     "text": [
      "True\n"
     ]
    }
   ],
   "source": [
    "# 12. Implement a function to check if a given string is an anagram of another string.\n",
    "\n",
    "def is_anagram(string1, string2):\n",
    "    return sorted(string1) == sorted(string2)\n",
    "\n",
    "# Example usage\n",
    "word1 = \"listen\"\n",
    "word2 = \"silent\"\n",
    "print(is_anagram(word1, word2))  # Output: True\n",
    "\n",
    "\n"
   ]
  },
  {
   "cell_type": "code",
   "execution_count": 72,
   "metadata": {},
   "outputs": [
    {
     "name": "stdout",
     "output_type": "stream",
     "text": [
      "['abc', 'acb', 'bac', 'bca', 'cab', 'cba']\n"
     ]
    }
   ],
   "source": [
    "# 13. Write a Python program to generate all permutations of a given string.\n",
    "\n",
    "def generate_permutations(string):\n",
    "    if len(string) == 1:\n",
    "        return [string]\n",
    "    permutations = []\n",
    "    for i in range(len(string)):\n",
    "        char = string[i]\n",
    "        remaining_chars = string[:i] + string[i+1:]\n",
    "        for perm in generate_permutations(remaining_chars):\n",
    "            permutations.append(char + perm)\n",
    "    return permutations\n",
    "\n",
    "# Example usage\n",
    "word = \"abc\"\n",
    "permutations = generate_permutations(word)\n",
    "print(permutations)  # Output: ['abc', 'acb', 'bac', 'bca', 'cab', 'cba']\n"
   ]
  },
  {
   "cell_type": "code",
   "execution_count": 73,
   "metadata": {},
   "outputs": [
    {
     "name": "stdout",
     "output_type": "stream",
     "text": [
      "[0, 1, 1, 2, 3, 5, 8, 13, 21, 34]\n"
     ]
    }
   ],
   "source": [
    "# 14.Implement a function to calculate the Fibonacci sequence up to a given number of terms.\n",
    "\n",
    "def fibonacci_sequence(n):\n",
    "    sequence = [0, 1]\n",
    "    for i in range(2, n):\n",
    "        next_number = sequence[i - 1] + sequence[i - 2]\n",
    "        sequence.append(next_number)\n",
    "    return sequence\n",
    "\n",
    "# Example usage\n",
    "terms = 10\n",
    "fibonacci = fibonacci_sequence(terms)\n",
    "print(fibonacci)  # Output: [0, 1, 1, 2, 3, 5, 8, 13, 21, 34]\n"
   ]
  },
  {
   "cell_type": "code",
   "execution_count": 74,
   "metadata": {},
   "outputs": [
    {
     "name": "stdout",
     "output_type": "stream",
     "text": [
      "3\n"
     ]
    }
   ],
   "source": [
    "# 15. Write a program to find the median of a list of numbers.\n",
    "\n",
    "def cal_median(nums):\n",
    "  nums.sort()\n",
    "  n = len(nums)\n",
    "  m = n // 2\n",
    "  if n % 2 == 0:\n",
    "    return (nums[m - 1] + nums[m]) / 2\n",
    "  else:\n",
    "    return nums[m]\n",
    "print(cal_median([1,2,3,4,5]))\n",
    "\n"
   ]
  },
  {
   "cell_type": "code",
   "execution_count": 75,
   "metadata": {},
   "outputs": [
    {
     "name": "stdout",
     "output_type": "stream",
     "text": [
      "True\n",
      "False\n"
     ]
    }
   ],
   "source": [
    "# 16 Implement a function to check if a given list is sorted in non-decreasing order.\n",
    "def is_sorted(lst):\n",
    "    return all(lst[i] <= lst[i+1] for i in range(len(lst)-1))\n",
    "numbers1 = [1, 2, 3, 4, 5]\n",
    "numbers2 = [3, 1, 4, 1, 5, 9, 2, 6, 5]\n",
    "print(is_sorted(numbers1))  # Output: True\n",
    "print(is_sorted(numbers2))  # Output: False\n"
   ]
  },
  {
   "cell_type": "code",
   "execution_count": 76,
   "metadata": {},
   "outputs": [
    {
     "name": "stdout",
     "output_type": "stream",
     "text": [
      "[4, 5]\n"
     ]
    }
   ],
   "source": [
    "# 17. Write a Python program to find the intersection of two lists.\n",
    "def find_intersection(list1, list2):\n",
    "    set1 = set(list1)\n",
    "    set2 = set(list2)\n",
    "    intersection = set1.intersection(set2)\n",
    "    return list(intersection)\n",
    "\n",
    "# Example usage\n",
    "list1 = [1, 2, 3, 4, 5]\n",
    "list2 = [4, 5, 6, 7, 8]\n",
    "intersection = find_intersection(list1, list2)\n",
    "print(intersection)  # Output: [4, 5]\n"
   ]
  },
  {
   "cell_type": "code",
   "execution_count": 77,
   "metadata": {},
   "outputs": [
    {
     "name": "stdout",
     "output_type": "stream",
     "text": [
      "6\n"
     ]
    }
   ],
   "source": [
    "# 18. Implement a function to find the maximum subarray sum in a given list.\n",
    "def find_maximum_subarray_sum(lst):\n",
    "    current_sum = max_sum = lst[0]\n",
    "    for num in lst[1:]:\n",
    "        current_sum = max(num, current_sum + num)\n",
    "        max_sum = max(max_sum, current_sum)\n",
    "    return max_sum\n",
    "\n",
    "# Example usage\n",
    "numbers = [-2, 1, -3, 4, -1, 2, 1, -5, 4]\n",
    "maximum_sum = find_maximum_subarray_sum(numbers)\n",
    "print(maximum_sum)  # Output: 6\n"
   ]
  },
  {
   "cell_type": "code",
   "execution_count": 78,
   "metadata": {},
   "outputs": [
    {
     "name": "stdout",
     "output_type": "stream",
     "text": [
      "Hll, Wrld!\n"
     ]
    }
   ],
   "source": [
    "# 19. Write a program to remove all vowels from a given string.\n",
    "def remove_vowels(string):\n",
    "    vowels = \"aeiouAEIOU\"\n",
    "    return \"\".join(char for char in string if char not in vowels)\n",
    "\n",
    "# Example usage\n",
    "sentence = \"Hello, World!\"\n",
    "new_sentence = remove_vowels(sentence)\n",
    "print(new_sentence)  # Output: \"Hll, Wrld!\"\n"
   ]
  },
  {
   "cell_type": "code",
   "execution_count": 79,
   "metadata": {},
   "outputs": [
    {
     "name": "stdout",
     "output_type": "stream",
     "text": [
      "World! Hello,\n"
     ]
    }
   ],
   "source": [
    "# 20.Implement a function to reverse the order of words in a given sentence.\n",
    "def reverse_sentence(sentence):\n",
    "    words = sentence.split()\n",
    "    reversed_words = \" \".join(reversed(words))\n",
    "    return reversed_words\n",
    "\n",
    "# Example usage\n",
    "sentence = \"Hello, World!\"\n",
    "reversed_sentence = reverse_sentence(sentence)\n",
    "print(reversed_sentence)  # Output: \"World! Hello,\"\n"
   ]
  },
  {
   "cell_type": "code",
   "execution_count": 80,
   "metadata": {},
   "outputs": [
    {
     "name": "stdout",
     "output_type": "stream",
     "text": [
      "True\n"
     ]
    }
   ],
   "source": [
    "# 21. Write a Python program to check if two strings are anagrams of each other.\n",
    "\n",
    "def are_anagrams(string1, string2):\n",
    "    return sorted(string1) == sorted(string2)\n",
    "\n",
    "# Example usage\n",
    "word1 = \"listen\"\n",
    "word2 = \"silent\"\n",
    "print(are_anagrams(word1, word2))  # Output: True\n"
   ]
  },
  {
   "cell_type": "code",
   "execution_count": 81,
   "metadata": {},
   "outputs": [
    {
     "name": "stdout",
     "output_type": "stream",
     "text": [
      "h\n"
     ]
    }
   ],
   "source": [
    "# 22. Implement a function to find the first non-repeating character in a string.\n",
    "def find_first_non_repeating_character(string):\n",
    "    char_count = {}\n",
    "    for char in string:\n",
    "        char_count[char] = char_count.get(char, 0) + 1\n",
    "    for char in string:\n",
    "        if char_count[char] == 1:\n",
    "            return char\n",
    "    return None\n",
    "\n",
    "# Example usage\n",
    "word = \"hello\"\n",
    "first_non_repeating_char = find_first_non_repeating_character(word)\n",
    "print(first_non_repeating_char)  # Output: \"h\"\n"
   ]
  },
  {
   "cell_type": "code",
   "execution_count": 82,
   "metadata": {},
   "outputs": [
    {
     "name": "stdout",
     "output_type": "stream",
     "text": [
      "[2, 2, 3, 7]\n"
     ]
    }
   ],
   "source": [
    "# 23. Write a program to find the prime factors of a given number.\n",
    "def find_prime_factors(number):\n",
    "    factors = []\n",
    "    divisor = 2\n",
    "    while divisor <= number:\n",
    "        if number % divisor == 0:\n",
    "            factors.append(divisor)\n",
    "            number //= divisor\n",
    "        else:\n",
    "            divisor += 1\n",
    "    return factors\n",
    "\n",
    "# Example usage\n",
    "number = 84\n",
    "prime_factors = find_prime_factors(number)\n",
    "print(prime_factors)  # Output: [2, 2, 3, 7]\n",
    "\n"
   ]
  },
  {
   "cell_type": "code",
   "execution_count": 83,
   "metadata": {},
   "outputs": [
    {
     "name": "stdout",
     "output_type": "stream",
     "text": [
      "True\n",
      "False\n"
     ]
    }
   ],
   "source": [
    "# 24. Implement a function to check if a given number is a power of two.\n",
    "def is_power_of_two(n):\n",
    "    if n <= 0:\n",
    "        return False\n",
    "    while n > 1:\n",
    "        if n % 2 != 0:\n",
    "            return False\n",
    "        n //= 2\n",
    "    return True\n",
    "\n",
    "# Example usage\n",
    "number1 = 16\n",
    "number2 = 17\n",
    "print(is_power_of_two(number1))  # Output: True\n",
    "print(is_power_of_two(number2))  # Output: False\n"
   ]
  },
  {
   "cell_type": "code",
   "execution_count": 84,
   "metadata": {},
   "outputs": [
    {
     "name": "stdout",
     "output_type": "stream",
     "text": [
      "[1, 2, 3, 4, 5, 6, 7, 8]\n"
     ]
    }
   ],
   "source": [
    "# 25.Write a Python program to merge two sorted lists into a single sorted list.\n",
    "\n",
    "def merge_sorted_lists(list1, list2):\n",
    "    merged_list = []\n",
    "    i = j = 0\n",
    "    while i < len(list1) and j < len(list2):\n",
    "        if list1[i] <= list2[j]:\n",
    "            merged_list.append(list1[i])\n",
    "            i += 1\n",
    "        else:\n",
    "            merged_list.append(list2[j])\n",
    "            j += 1\n",
    "    merged_list.extend(list1[i:])\n",
    "    merged_list.extend(list2[j:])\n",
    "    return merged_list\n",
    "\n",
    "# Example usage\n",
    "list1 = [1, 3, 5, 7]\n",
    "list2 = [2, 4, 6, 8]\n",
    "merged_list = merge_sorted_lists(list1, list2)\n",
    "print(merged_list)  # Output: [1, 2, 3, 4, 5, 6, 7, 8]\n"
   ]
  },
  {
   "cell_type": "code",
   "execution_count": 85,
   "metadata": {},
   "outputs": [
    {
     "name": "stdout",
     "output_type": "stream",
     "text": [
      "[2]\n"
     ]
    }
   ],
   "source": [
    "# 26. Implement a function to find the mode of a list of numbers.\n",
    "\n",
    "from collections import Counter\n",
    "\n",
    "def find_mode(lst):\n",
    "    counter = Counter(lst)\n",
    "    modes = counter.most_common()\n",
    "    max_count = modes[0][1]\n",
    "    mode_values = [num for num, count in modes if count == max_count]\n",
    "    return mode_values\n",
    "\n",
    "# Example usage\n",
    "numbers = [1, 2, 3, 2, 4, 1, 2]\n",
    "modes = find_mode(numbers)\n",
    "print(modes)  # Output: [2]\n"
   ]
  },
  {
   "cell_type": "code",
   "execution_count": 86,
   "metadata": {},
   "outputs": [
    {
     "name": "stdout",
     "output_type": "stream",
     "text": [
      "6\n"
     ]
    }
   ],
   "source": [
    "# 27.Write a program to find the greatest common divisor (GCD) of two numbers.\n",
    "def find_gcd(a, b):\n",
    "    while b != 0:\n",
    "        a, b = b, a % b\n",
    "    return a\n",
    "\n",
    "# Example usage\n",
    "num1 = 54\n",
    "num2 = 24\n",
    "gcd = find_gcd(num1, num2)\n",
    "print(gcd)  # Output: 6\n"
   ]
  },
  {
   "cell_type": "code",
   "execution_count": 87,
   "metadata": {},
   "outputs": [
    {
     "name": "stdout",
     "output_type": "stream",
     "text": [
      "Square Root: 3.0\n"
     ]
    }
   ],
   "source": [
    "# 28. Implement a function to calculate the square root of a given number.\n",
    "def sqrt(num):\n",
    "    return num ** (1/2)\n",
    "print(\"Square Root:\",sqrt(9)) # Output: Square Root: 3.\n"
   ]
  },
  {
   "cell_type": "code",
   "execution_count": 88,
   "metadata": {},
   "outputs": [
    {
     "name": "stdout",
     "output_type": "stream",
     "text": [
      "True\n"
     ]
    }
   ],
   "source": [
    "# 29. Write a Python program to check if a given string is a valid palindrome ignoring non-alphanumeric characters.\n",
    "\n",
    "import re\n",
    "\n",
    "def is_valid_palindrome(string):\n",
    "    alphanumeric_string = re.sub(r'\\W+','', string)\n",
    "    lowercase_string = alphanumeric_string.lower()\n",
    "    return lowercase_string == lowercase_string[::-1]\n",
    "\n",
    "# Example usage\n",
    "test_string = \"A man, a plan, a canal: Panama\"\n",
    "print(is_valid_palindrome(test_string))  # Output: True\n"
   ]
  },
  {
   "cell_type": "code",
   "execution_count": 89,
   "metadata": {},
   "outputs": [
    {
     "name": "stdout",
     "output_type": "stream",
     "text": [
      "0\n"
     ]
    }
   ],
   "source": [
    "# 30.Implement a function to find the minimum element in a rotated sorted list.\n",
    "def find_minimum(lst):\n",
    "    left = 0\n",
    "    right = len(lst) - 1\n",
    "    while left < right:\n",
    "        mid = left + (right - left) // 2\n",
    "        if lst[mid] > lst[right]:\n",
    "            left = mid + 1\n",
    "        else:\n",
    "            right = mid\n",
    "    return lst[left]\n",
    "\n",
    "# Example usage\n",
    "numbers = [4, 5, 6, 7, 0, 1, 2]\n",
    "minimum = find_minimum(numbers)\n",
    "print(minimum)  # Output: 0\n"
   ]
  },
  {
   "cell_type": "code",
   "execution_count": 90,
   "metadata": {},
   "outputs": [
    {
     "name": "stdout",
     "output_type": "stream",
     "text": [
      "12\n"
     ]
    }
   ],
   "source": [
    "# 31.Write a program to find the sum of all even numbers in a list.\n",
    "def calculate_sum_of_evens(lst):\n",
    "    return sum(num for num in lst if num % 2 == 0)\n",
    "\n",
    "# Example usage\n",
    "numbers = [1, 2, 3, 4, 5, 6]\n",
    "sum_of_evens = calculate_sum_of_evens(numbers)\n",
    "print(sum_of_evens)  # Output: 12\n"
   ]
  },
  {
   "cell_type": "code",
   "execution_count": 91,
   "metadata": {},
   "outputs": [
    {
     "name": "stdout",
     "output_type": "stream",
     "text": [
      "8\n"
     ]
    }
   ],
   "source": [
    "# 32.Implement a function to calculate the power of a number using recursion.\n",
    "def power(base, exponent):\n",
    "    if exponent == 0:\n",
    "        return 1\n",
    "    elif exponent > 0:\n",
    "        return base * power(base, exponent - 1)\n",
    "    else:\n",
    "        return 1 / power(base, -exponent)\n",
    "\n",
    "# Example usage\n",
    "base = 2\n",
    "exponent = 3\n",
    "result = power(base, exponent)\n",
    "print(result)  # Output: 8\n"
   ]
  },
  {
   "cell_type": "code",
   "execution_count": 92,
   "metadata": {},
   "outputs": [
    {
     "name": "stdout",
     "output_type": "stream",
     "text": [
      "[1, 2, 3, 4]\n"
     ]
    }
   ],
   "source": [
    "# 33. Write a Python program to remove duplicates from a list while preserving the order.\n",
    "def remove_duplicates_preserve_order(lst):\n",
    "    seen = set()\n",
    "    return [x for x in lst if not (x in seen or seen.add(x))]\n",
    "\n",
    "# Example usage\n",
    "numbers = [1, 2, 1, 3, 2, 4, 1]\n",
    "unique_numbers = remove_duplicates_preserve_order(numbers)\n",
    "print(unique_numbers)  # Output: [1, 2, 3, 4]\n"
   ]
  },
  {
   "cell_type": "code",
   "execution_count": 93,
   "metadata": {},
   "outputs": [
    {
     "name": "stdout",
     "output_type": "stream",
     "text": [
      "fl\n"
     ]
    }
   ],
   "source": [
    "# 34. Implement a function to find the longest common prefix among a list of strings.\n",
    "\n",
    "def find_longest_common_prefix(strings):\n",
    "    if not strings:\n",
    "        return \"\"\n",
    "    shortest = min(strings, key=len)\n",
    "    for i, char in enumerate(shortest):\n",
    "        if any(string[i] != char for string in strings):\n",
    "            return shortest[:i]\n",
    "    return shortest\n",
    "\n",
    "# Example usage\n",
    "words = [\"flower\", \"flow\", \"flight\"]\n",
    "common_prefix = find_longest_common_prefix(words)\n",
    "print(common_prefix)  # Output: \"fl\"\n"
   ]
  },
  {
   "cell_type": "code",
   "execution_count": 94,
   "metadata": {},
   "outputs": [
    {
     "name": "stdout",
     "output_type": "stream",
     "text": [
      "True\n",
      "False\n"
     ]
    }
   ],
   "source": [
    "# 35.Write a program to check if a given number is a perfect square.\n",
    "def is_perfect_square(n):\n",
    "    if n < 0:\n",
    "        return False\n",
    "    root = int(n ** 0.5)\n",
    "    return root * root == n\n",
    "\n",
    "# Example usage\n",
    "number1 = 16\n",
    "number2 = 17\n",
    "print(is_perfect_square(number1))  # Output: True\n",
    "print(is_perfect_square(number2))  # Output: False\n"
   ]
  },
  {
   "cell_type": "code",
   "execution_count": 95,
   "metadata": {},
   "outputs": [
    {
     "name": "stdout",
     "output_type": "stream",
     "text": [
      "120\n"
     ]
    }
   ],
   "source": [
    "# 36.Implement a function to calculate the product of all elements in a list.\n",
    "\n",
    "def calculate_product(lst):\n",
    "    product = 1\n",
    "    for num in lst:\n",
    "        product *= num\n",
    "    return product\n",
    "\n",
    "#Example usage\n",
    "numbers = [1, 2, 3, 4, 5]\n",
    "product = calculate_product(numbers)\n",
    "print(product)  # Output: 120\n"
   ]
  },
  {
   "cell_type": "code",
   "execution_count": 96,
   "metadata": {},
   "outputs": [
    {
     "name": "stdout",
     "output_type": "stream",
     "text": [
      "World! Hello,\n"
     ]
    }
   ],
   "source": [
    "# 37.Write a Python program to reverse the order of words in a sentence while preserving the word order.\n",
    "def reverse_words(sentence):\n",
    "    words = sentence.split()\n",
    "    reversed_words = \" \".join(reversed(words))\n",
    "    return reversed_words\n",
    "\n",
    "# Example usage\n",
    "sentence = \"Hello, World!\"\n",
    "reversed_sentence = reverse_words(sentence)\n",
    "print(reversed_sentence)  # Output: \"World! Hello,\"\n"
   ]
  },
  {
   "cell_type": "code",
   "execution_count": 97,
   "metadata": {},
   "outputs": [
    {
     "name": "stdout",
     "output_type": "stream",
     "text": [
      "3\n"
     ]
    }
   ],
   "source": [
    "# 38.Implement a function to find the missing number in a given list of consecutive numbers.\n",
    "def find_missing_number(lst):\n",
    "    n = len(lst) + 1\n",
    "    total_sum = n * (n + 1) // 2\n",
    "    actual_sum = sum(lst)\n",
    "    missing_number = total_sum - actual_sum\n",
    "    return missing_number\n",
    "\n",
    "# Example usage\n",
    "numbers = [1, 2, 4, 5, 6]\n",
    "missing_number = find_missing_number(numbers)\n",
    "print(missing_number)  # Output: 3\n"
   ]
  },
  {
   "cell_type": "code",
   "execution_count": 98,
   "metadata": {},
   "outputs": [
    {
     "name": "stdout",
     "output_type": "stream",
     "text": [
      "15\n"
     ]
    }
   ],
   "source": [
    "# 39. Write a program to find the sum of digits of a given number.\n",
    "def calculate_sum_of_digits(number):\n",
    "    digit_sum = 0\n",
    "    while number > 0:\n",
    "        digit_sum += number % 10\n",
    "        number //= 10\n",
    "    return digit_sum\n",
    "\n",
    "# Example usage\n",
    "number = 12345\n",
    "digit_sum = calculate_sum_of_digits(number)\n",
    "print(digit_sum)  # Output: 15\n"
   ]
  },
  {
   "cell_type": "code",
   "execution_count": 99,
   "metadata": {},
   "outputs": [
    {
     "name": "stdout",
     "output_type": "stream",
     "text": [
      "True\n"
     ]
    }
   ],
   "source": [
    "# 40. Implement a function to check if a given string is a valid palindrome considering case sensitivity.\n",
    "def is_valid_palindrome_case_sensitive(string):\n",
    "    return string == string[::-1]\n",
    "\n",
    "# Example usage\n",
    "test_string = \"racecar\"\n",
    "print(is_valid_palindrome_case_sensitive(test_string))  # Output: True\n"
   ]
  },
  {
   "cell_type": "code",
   "execution_count": 100,
   "metadata": {},
   "outputs": [
    {
     "name": "stdout",
     "output_type": "stream",
     "text": [
      "1\n"
     ]
    }
   ],
   "source": [
    "# 41. Write a Python program to find the smallest missing positive integer in a list.\n",
    "def find_smallest_missing_positive(lst):\n",
    "    positive_nums = set(filter(lambda x: x > 0, lst))\n",
    "    smallest = 1\n",
    "    while smallest in positive_nums:\n",
    "        smallest += 1\n",
    "    return smallest\n",
    "\n",
    "# Example usage\n",
    "numbers = [-1, 0, 2, 3, 5]\n",
    "smallest_missing = find_smallest_missing_positive(numbers)\n",
    "print(smallest_missing)  # Output: 1\n"
   ]
  },
  {
   "cell_type": "code",
   "execution_count": 101,
   "metadata": {},
   "outputs": [
    {
     "name": "stdout",
     "output_type": "stream",
     "text": [
      "bab\n"
     ]
    }
   ],
   "source": [
    "# 42.Implement a function to find the longest palindrome substring in a given string.\n",
    "def find_longest_palindrome(string):\n",
    "    longest_palindrome = \"\"\n",
    "    for i in range(len(string)):\n",
    "        # Check for odd-length palindromes\n",
    "        left, right = i, i\n",
    "        while left >= 0 and right < len(string) and string[left] == string[right]:\n",
    "            left -= 1\n",
    "            right += 1\n",
    "        current_palindrome = string[left+1:right]\n",
    "\n",
    "        if len(current_palindrome) > len(longest_palindrome):\n",
    "            longest_palindrome = current_palindrome\n",
    "\n",
    "        # Check for even-length palindromes\n",
    "        left, right = i, i + 1\n",
    "        while left >= 0 and right < len(string) and string[left] == string[right]:\n",
    "            left -= 1\n",
    "            right += 1\n",
    "        current_palindrome = string[left+1:right]\n",
    "\n",
    "        if len(current_palindrome) > len(longest_palindrome):\n",
    "            longest_palindrome = current_palindrome\n",
    "\n",
    "    return longest_palindrome\n",
    "\n",
    "# Example usage\n",
    "word = \"babad\"\n",
    "longest_palindrome = find_longest_palindrome(word)\n",
    "print(longest_palindrome)  #Output: \"bab\"\n"
   ]
  },
  {
   "cell_type": "code",
   "execution_count": 102,
   "metadata": {},
   "outputs": [
    {
     "name": "stdout",
     "output_type": "stream",
     "text": [
      "3\n"
     ]
    }
   ],
   "source": [
    "# 43. Write a program to find the number of occurrences of a given element in a list.\n",
    "def count_occurrences(lst, element):\n",
    "    return lst.count(element)\n",
    "\n",
    "# Example usage\n",
    "numbers = [1, 2, 3, 2, 4, 1, 2]\n",
    "element = 2\n",
    "occurrences = count_occurrences(numbers, element)\n",
    "print(occurrences)  # Output: 3\n"
   ]
  },
  {
   "cell_type": "code",
   "execution_count": 103,
   "metadata": {},
   "outputs": [
    {
     "name": "stdout",
     "output_type": "stream",
     "text": [
      "True\n",
      "False\n"
     ]
    }
   ],
   "source": [
    "# 44.Implement a function to check if a given number is a perfect number.\n",
    "def is_perfect_number(number):\n",
    "    if number < 2:\n",
    "        return False\n",
    "    divisors = [1]\n",
    "    for i in range(2, int(number ** 0.5) + 1):\n",
    "        if number % i == 0:\n",
    "            divisors.append(i)\n",
    "            if i != number // i:\n",
    "                divisors.append(number // i)\n",
    "    return sum(divisors) == number\n",
    "\n",
    "# Example usage\n",
    "number1 = 6\n",
    "number2 = 12\n",
    "print(is_perfect_number(number1))  # Output: True\n",
    "print(is_perfect_number(number2))  # Output: False\n"
   ]
  },
  {
   "cell_type": "code",
   "execution_count": 104,
   "metadata": {},
   "outputs": [
    {
     "name": "stdout",
     "output_type": "stream",
     "text": [
      "hello world\n",
      "After removing duplicates:  helo wrd\n"
     ]
    }
   ],
   "source": [
    "# 45.Write a Python program to remove all duplicates from a string.\n",
    "\n",
    "\n",
    "from collections import OrderedDict\n",
    "\n",
    "def remove_duplicate(s): \n",
    "    return \"\".join(OrderedDict.fromkeys(s))\n",
    "\n",
    "# test\n",
    "s=\"hello world\"\n",
    "print(s)\n",
    "print(\"After removing duplicates: \",remove_duplicate(s))\n",
    "\n",
    "\n",
    "\n"
   ]
  },
  {
   "cell_type": "code",
   "execution_count": 105,
   "metadata": {},
   "outputs": [
    {
     "name": "stdout",
     "output_type": "stream",
     "text": [
      "2\n"
     ]
    }
   ],
   "source": [
    "# 46 Implement a function to find the first missing positive number in a given list.\n",
    "\n",
    "def find_first_missing_positive(lst):\n",
    "    n = len(lst)\n",
    "    for i in range(n):\n",
    "        while 1 <= lst[i] <= n and lst[lst[i] - 1] != lst[i]:\n",
    "            lst[lst[i] - 1], lst[i] = lst[i], lst[lst[i] - 1]\n",
    "    for i in range(n):\n",
    "        if lst[i] != i + 1:\n",
    "            return i + 1\n",
    "    return n + 1\n",
    "\n",
    "# Example usage\n",
    "numbers = [3, 4, -1, 1]\n",
    "missing_positive = find_first_missing_positive(numbers)\n",
    "print(missing_positive)  # Output: 2\n"
   ]
  }
 ],
 "metadata": {
  "kernelspec": {
   "display_name": "Python 3",
   "language": "python",
   "name": "python3"
  },
  "language_info": {
   "codemirror_mode": {
    "name": "ipython",
    "version": 3
   },
   "file_extension": ".py",
   "mimetype": "text/x-python",
   "name": "python",
   "nbconvert_exporter": "python",
   "pygments_lexer": "ipython3",
   "version": "3.10.6"
  },
  "orig_nbformat": 4
 },
 "nbformat": 4,
 "nbformat_minor": 2
}
